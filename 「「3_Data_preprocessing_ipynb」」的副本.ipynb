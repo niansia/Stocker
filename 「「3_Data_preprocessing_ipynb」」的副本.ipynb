{
  "nbformat": 4,
  "nbformat_minor": 0,
  "metadata": {
    "kernelspec": {
      "display_name": "Python 3",
      "language": "python",
      "name": "python3"
    },
    "language_info": {
      "codemirror_mode": {
        "name": "ipython",
        "version": 3
      },
      "file_extension": ".py",
      "mimetype": "text/x-python",
      "name": "python",
      "nbconvert_exporter": "python",
      "pygments_lexer": "ipython3",
      "version": "3.6.6"
    },
    "colab": {
      "provenance": [],
      "include_colab_link": true
    }
  },
  "cells": [
    {
      "cell_type": "markdown",
      "metadata": {
        "id": "view-in-github",
        "colab_type": "text"
      },
      "source": [
        "<a href=\"https://colab.research.google.com/github/niansia/Stocker/blob/master/%E3%80%8C%E3%80%8C3_Data_preprocessing_ipynb%E3%80%8D%E3%80%8D%E7%9A%84%E5%89%AF%E6%9C%AC.ipynb\" target=\"_parent\"><img src=\"https://colab.research.google.com/assets/colab-badge.svg\" alt=\"Open In Colab\"/></a>"
      ]
    },
    {
      "cell_type": "code",
      "metadata": {
        "id": "MWAZJfUsP_qH"
      },
      "source": [
        "# 01\n",
        "import pandas as pd\n",
        "import numpy as np\n",
        "\n",
        "data = {\n",
        "    'size': ['M','S',np.nan,'M','XL'],\n",
        "    'color': ['green', 'blue', 'blue', np.nan, np.nan],\n",
        "    'price': [200, np.nan, 200, 300, 300],\n",
        "    'quantity': [np.nan, 35000, np.nan, 20000, 10000]\n",
        "}\n",
        "X = pd.DataFrame(data)\n",
        "X_orig = X.copy()\n",
        "X.style.highlight_null(null_color='yellow')"
      ],
      "execution_count": null,
      "outputs": []
    },
    {
      "cell_type": "code",
      "metadata": {
        "id": "ilvbhnNAP_qL"
      },
      "source": [
        "# 02\n",
        "X.info()"
      ],
      "execution_count": null,
      "outputs": []
    },
    {
      "cell_type": "code",
      "metadata": {
        "id": "z1Zhxa5wP_qN"
      },
      "source": [
        "# 03\n",
        "X_col_num = ['price','quantity']\n",
        "X_num = X[X_col_num]\n",
        "X_num.style.highlight_null(null_color='yellow')"
      ],
      "execution_count": null,
      "outputs": []
    },
    {
      "cell_type": "code",
      "metadata": {
        "id": "U8QSYjCXP_qS"
      },
      "source": [
        "# 04\n",
        "from sklearn.impute import SimpleImputer\n",
        "si = SimpleImputer(strategy='mean')\n",
        "X_num_impute = si.fit_transform(X_num)\n",
        "X_num_impute"
      ],
      "execution_count": null,
      "outputs": []
    },
    {
      "cell_type": "code",
      "metadata": {
        "id": "8lLLfjQTP_qU"
      },
      "source": [
        "# 05\n",
        "si.statistics_"
      ],
      "execution_count": null,
      "outputs": []
    },
    {
      "cell_type": "code",
      "metadata": {
        "scrolled": true,
        "id": "Cstn1Fk2P_qX"
      },
      "source": [
        "# 06\n",
        "X_num.fillna(X_num.mean())"
      ],
      "execution_count": null,
      "outputs": []
    },
    {
      "cell_type": "code",
      "metadata": {
        "id": "OJujKQW0P_qZ"
      },
      "source": [
        "# 07\n",
        "from sklearn.preprocessing import StandardScaler, MinMaxScaler\n",
        "ss = StandardScaler()\n",
        "X_num_impute_ss = ss.fit_transform(X_num_impute)\n",
        "X_num_impute_ss"
      ],
      "execution_count": null,
      "outputs": []
    },
    {
      "cell_type": "code",
      "metadata": {
        "id": "Ivmgl_hdP_qc"
      },
      "source": [
        "# 08\n",
        "df_X_num_impute = pd.DataFrame(X_num_impute)\n",
        "(df_X_num_impute - df_X_num_impute.mean())/df_X_num_impute.std(ddof=0)"
      ],
      "execution_count": null,
      "outputs": []
    },
    {
      "cell_type": "code",
      "metadata": {
        "id": "ReyaTJJ-P_qe"
      },
      "source": [
        "# 09\n",
        "from sklearn.pipeline import make_pipeline\n",
        "num_pl = make_pipeline(SimpleImputer(strategy='mean'),\n",
        "                       StandardScaler())\n",
        "num_pl.fit_transform(X_num)"
      ],
      "execution_count": null,
      "outputs": []
    },
    {
      "cell_type": "code",
      "metadata": {
        "id": "vTADMWGQP_qg"
      },
      "source": [
        "# 10\n",
        "X_col_cat = ['size','color']\n",
        "X_cat = X[X_col_cat]\n",
        "X_cat.style.highlight_null(color='yellow')"
      ],
      "execution_count": null,
      "outputs": []
    },
    {
      "cell_type": "code",
      "metadata": {
        "id": "b6tSPcUTP_qi"
      },
      "source": [
        "# 11\n",
        "si = SimpleImputer(strategy='most_frequent')\n",
        "X_cat_impute = si.fit_transform(X_cat)\n",
        "X_cat_impute"
      ],
      "execution_count": null,
      "outputs": []
    },
    {
      "cell_type": "code",
      "source": [
        "X_cat"
      ],
      "metadata": {
        "id": "c_y7O5ueyXrC"
      },
      "execution_count": null,
      "outputs": []
    },
    {
      "cell_type": "code",
      "metadata": {
        "id": "8Jbp0-_KP_qk"
      },
      "source": [
        "# 12\n",
        "pd.get_dummies(X_cat)"
      ],
      "execution_count": null,
      "outputs": []
    },
    {
      "cell_type": "code",
      "source": [
        "X_cat_impute"
      ],
      "metadata": {
        "id": "9WueBv3ly4hT"
      },
      "execution_count": null,
      "outputs": []
    },
    {
      "cell_type": "code",
      "metadata": {
        "id": "ti0GOmcdP_qn"
      },
      "source": [
        "# 13\n",
        "from sklearn.preprocessing import OneHotEncoder\n",
        "oh = OneHotEncoder(sparse=False)\n",
        "X_cat_impute_oh = oh.fit_transform(X_cat_impute)\n",
        "X_cat_impute_oh"
      ],
      "execution_count": null,
      "outputs": []
    },
    {
      "cell_type": "code",
      "metadata": {
        "id": "po_Ov-INP_qp"
      },
      "source": [
        "# 14\n",
        "oh.get_feature_names_out(['size','color'])"
      ],
      "execution_count": null,
      "outputs": []
    },
    {
      "cell_type": "code",
      "metadata": {
        "scrolled": true,
        "id": "J2_oSlWkP_qr"
      },
      "source": [
        "# 15\n",
        "pd.DataFrame(X_cat_impute_oh, columns=oh.get_feature_names_out(['size','color']))"
      ],
      "execution_count": null,
      "outputs": []
    },
    {
      "cell_type": "code",
      "source": [
        "cat_pl=make_pipeline(SimpleImputer(strategy='most_frequent'),OneHotEncoder(sparse=False))\n",
        "cat_pl.fit_transform(X_cat)\n"
      ],
      "metadata": {
        "id": "T2vKdz4jznfi"
      },
      "execution_count": null,
      "outputs": []
    },
    {
      "cell_type": "code",
      "metadata": {
        "id": "Gm5GlSnIP_qv"
      },
      "source": [
        "# 17\n",
        "oh_in_pl = cat_pl.named_steps['onehotencoder']\n",
        "oh_in_pl.get_feature_names_out(['size','color'])"
      ],
      "execution_count": null,
      "outputs": []
    },
    {
      "cell_type": "code",
      "metadata": {
        "id": "-RzcGQ-BP_qx"
      },
      "source": [
        "# 18\n",
        "np.concatenate([X_num_impute_ss, X_cat_impute_oh], axis=1).round(2)"
      ],
      "execution_count": null,
      "outputs": []
    },
    {
      "cell_type": "code",
      "metadata": {
        "id": "C0h0SMWsP_qz"
      },
      "source": [
        "# 19\n",
        "from sklearn.compose import ColumnTransformer\n",
        "data_pl = ColumnTransformer([\n",
        "    ('num_pl', num_pl, X_col_num),\n",
        "    ('cat_pl', cat_pl, X_col_cat)\n",
        "])\n",
        "data_pl.fit_transform(X).round(2)"
      ],
      "execution_count": null,
      "outputs": []
    },
    {
      "cell_type": "code",
      "metadata": {
        "id": "GUvZaaW1P_q2"
      },
      "source": [
        "# 20\n",
        "from sklearn.compose import ColumnTransformer\n",
        "data_pl = ColumnTransformer([\n",
        "    ('num_pl', 'drop', X_col_num),\n",
        "    ('cat_pl', cat_pl, X_col_cat)\n",
        "])\n",
        "pd.DataFrame(data_pl.fit_transform(X))"
      ],
      "execution_count": null,
      "outputs": []
    },
    {
      "cell_type": "code",
      "metadata": {
        "id": "iqSUjq__P_q4"
      },
      "source": [
        "# 21\n",
        "data_pl = ColumnTransformer([\n",
        "    ('num_pl', num_pl, ['price']),\n",
        "    ('cat_pl', cat_pl, X_col_cat)\n",
        "], remainder='passthrough')\n",
        "pd.DataFrame(data_pl.fit_transform(X))"
      ],
      "execution_count": null,
      "outputs": []
    },
    {
      "cell_type": "code",
      "metadata": {
        "id": "WERSZb0vP_q6"
      },
      "source": [
        "# 22\n",
        "data_pl = ColumnTransformer([\n",
        "    ('num_pl', num_pl, ['price']),\n",
        "    ('cat_pl', cat_pl, X_col_cat)\n",
        "], remainder='drop')\n",
        "pd.DataFrame(data_pl.fit_transform(X))"
      ],
      "execution_count": null,
      "outputs": []
    },
    {
      "cell_type": "code",
      "metadata": {
        "scrolled": true,
        "id": "mfdg8mdSP_q8"
      },
      "source": [
        "# 23\n",
        "from sklearn.compose import ColumnTransformer\n",
        "data_pl = ColumnTransformer([\n",
        "    ('num_pl', SimpleImputer(strategy='mean'), X_col_num),\n",
        "    ('cat_pl', cat_pl, X_col_cat)\n",
        "])\n",
        "pd.DataFrame(data_pl.fit_transform(X))"
      ],
      "execution_count": null,
      "outputs": []
    },
    {
      "cell_type": "code",
      "metadata": {
        "id": "euH-KMwSP_q-"
      },
      "source": [
        "# 24\n",
        "# 第一步：取得cat_pl管道器\n",
        "data_pl.named_transformers_['cat_pl']"
      ],
      "execution_count": null,
      "outputs": []
    },
    {
      "cell_type": "code",
      "metadata": {
        "id": "tieizxMcP_rA"
      },
      "source": [
        "# 25\n",
        "# 第二步：取得onehotencoder欄位對應結果\n",
        "data_pl.named_transformers_['cat_pl'].\\\n",
        "named_steps['onehotencoder'].get_feature_names_out()"
      ],
      "execution_count": null,
      "outputs": []
    },
    {
      "cell_type": "code",
      "metadata": {
        "id": "CJBthlgmP_rD"
      },
      "source": [
        "# 26\n",
        "# 你如何知道管道器裡的轉換器名稱呢？make_pipeline會自動小寫轉換器的名稱當索引鍵。\n",
        "# 如果還是不確定就用named_steps.keys()列出所有的索引鍵值\n",
        "data_pl.named_transformers_['cat_pl'].named_steps.keys()"
      ],
      "execution_count": null,
      "outputs": []
    },
    {
      "cell_type": "code",
      "metadata": {
        "id": "g26KYSEJP_rF"
      },
      "source": [
        "# 27\n",
        "# 第三步：將所有欄位整理到DataFrame裡\n",
        "X_col_cat_oh = data_pl.named_transformers_['cat_pl'].\\\n",
        "named_steps['onehotencoder'].get_feature_names_out(X_col_cat)\n",
        "columns = X_col_num + X_col_cat_oh.tolist()\n",
        "print('整合後的欄位資料：',columns)\n",
        "pd.DataFrame(data_pl.fit_transform(X), columns=columns)"
      ],
      "execution_count": null,
      "outputs": []
    },
    {
      "cell_type": "code",
      "metadata": {
        "id": "Gfj0HjTIP_rI"
      },
      "source": [
        "# 28\n",
        "# 資料\n",
        "df_full = pd.DataFrame({'price':[10,20,30,40,10,20]})\n",
        "print('原始資料\\n', df_full)\n",
        "\n",
        "from sklearn.preprocessing import KBinsDiscretizer\n",
        "kb = KBinsDiscretizer(n_bins=3, encode='ordinal')\n",
        "kb.fit_transform(df_full)"
      ],
      "execution_count": null,
      "outputs": []
    },
    {
      "cell_type": "code",
      "metadata": {
        "id": "NdsqhIVAP_rK"
      },
      "source": [
        "# 29\n",
        "si = SimpleImputer(strategy='constant', fill_value='Missing')\n",
        "X_cat_impute = si.fit_transform(X_cat)\n",
        "X_cat_impute"
      ],
      "execution_count": null,
      "outputs": []
    },
    {
      "cell_type": "code",
      "metadata": {
        "scrolled": true,
        "id": "OuCkrPggP_rM"
      },
      "source": [
        "# 30\n",
        "num_pl = make_pipeline(SimpleImputer(strategy='mean'), StandardScaler())\n",
        "num_pl.set_params(standardscaler=None)\n",
        "num_pl.fit_transform(X_num)"
      ],
      "execution_count": null,
      "outputs": []
    },
    {
      "cell_type": "code",
      "metadata": {
        "scrolled": true,
        "id": "kUM30BXEP_rO"
      },
      "source": [
        "# 31\n",
        "# 檢視管道器裡的結果也沒有出現standardscaler了\n",
        "num_pl.named_steps"
      ],
      "execution_count": null,
      "outputs": []
    },
    {
      "cell_type": "code",
      "metadata": {
        "id": "vsfmSB4jP_rQ"
      },
      "source": [
        "# 32\n",
        "from sklearn.preprocessing import MinMaxScaler\n",
        "num_pl = make_pipeline(SimpleImputer(strategy='mean'), StandardScaler())\n",
        "num_pl.set_params(standardscaler=MinMaxScaler())\n",
        "num_pl.fit_transform(X_num)"
      ],
      "execution_count": null,
      "outputs": []
    }
  ]
}